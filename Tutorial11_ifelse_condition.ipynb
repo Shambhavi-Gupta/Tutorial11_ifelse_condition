{
  "nbformat": 4,
  "nbformat_minor": 0,
  "metadata": {
    "colab": {
      "name": "Tutorial11_ifelse_condition.ipynb",
      "provenance": [],
      "authorship_tag": "ABX9TyPBbHAYno0hW4t38Kg+6lsy",
      "include_colab_link": true
    },
    "kernelspec": {
      "name": "python3",
      "display_name": "Python 3"
    }
  },
  "cells": [
    {
      "cell_type": "markdown",
      "metadata": {
        "id": "view-in-github",
        "colab_type": "text"
      },
      "source": [
        "<a href=\"https://colab.research.google.com/github/Shambhavi-Gupta/Tutorial11_ifelse_condition/blob/main/Tutorial11_ifelse_condition.ipynb\" target=\"_parent\"><img src=\"https://colab.research.google.com/assets/colab-badge.svg\" alt=\"Open In Colab\"/></a>"
      ]
    },
    {
      "cell_type": "code",
      "metadata": {
        "id": "wmcn7ZOORgfW"
      },
      "source": [
        "# var1 = 1\r\n",
        "# var2 = 2\r\n",
        "#\r\n",
        "# var3 = int(input())\r\n",
        "#\r\n",
        "# if var3>var2:\r\n",
        "#     print('Greater')\r\n",
        "# elif var3 == var2:\r\n",
        "#    print('Equal')\r\n",
        "# else:\r\n",
        "#     print('Lesser')\r\n",
        "\r\n",
        "\r\n",
        "list1 = [1,4,7]\r\n",
        "print(1 in list1)\r\n",
        "#if 1 in list1:\r\n",
        " #  print(\"Yes its in the list\")\r\n",
        "if 15 not in list1:\r\n",
        "   print(\"no it's not in the list\")"
      ],
      "execution_count": null,
      "outputs": []
    }
  ]
}